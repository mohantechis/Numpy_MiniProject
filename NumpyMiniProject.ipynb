{
  "nbformat": 4,
  "nbformat_minor": 0,
  "metadata": {
    "colab": {
      "name": "NumpyMiniProject.ipynb",
      "provenance": [],
      "collapsed_sections": []
    },
    "kernelspec": {
      "name": "python3",
      "display_name": "Python 3"
    },
    "language_info": {
      "name": "python"
    }
  },
  "cells": [
    {
      "cell_type": "markdown",
      "metadata": {
        "id": "HU87kvqgXiae"
      },
      "source": [
        "**MINI** **PROJECT**\n",
        "\n",
        "\n",
        "\n",
        "\n",
        "\n",
        "\n"
      ]
    },
    {
      "cell_type": "markdown",
      "metadata": {
        "id": "ol9xvqDL8hZJ"
      },
      "source": [
        "Loading The Data"
      ]
    },
    {
      "cell_type": "code",
      "metadata": {
        "colab": {
          "base_uri": "https://localhost:8080/"
        },
        "id": "6he4sa4TKtgz",
        "outputId": "9a76fec1-7a02-414c-ba10-07c1fb9aab7e"
      },
      "source": [
        "#Load the numpy\n",
        "import numpy as np\n",
        "import pandas as pd\n",
        "#Uploading the path of file \n",
        "data_file=\"/content/makeSenseOfCensus.csv\"\n",
        "#defining the file as a numpy array\n",
        "data=np.genfromtxt(data_file,delimiter=',',skip_header=1,names=True)\n",
        "\n",
        "data=pd.read_csv(\"/content/makeSenseOfCensus.csv\")\n",
        "print(\"\\nData: \\n\\n\",data)"
      ],
      "execution_count": 27,
      "outputs": [
        {
          "output_type": "stream",
          "name": "stdout",
          "text": [
            "\n",
            "Data: \n",
            "\n",
            "      age  education-num  race  ...  capital-loss  hours-per-week  income\n",
            "0     39             13     4  ...             0              40       0\n",
            "1     50             13     4  ...             0              13       0\n",
            "2     38              9     4  ...             0              40       0\n",
            "3     53              7     2  ...             0              40       0\n",
            "4     28             13     2  ...             0              40       0\n",
            "..   ...            ...   ...  ...           ...             ...     ...\n",
            "995   56              9     4  ...             0              55       1\n",
            "996   45             14     4  ...             0              45       0\n",
            "997   48             13     4  ...             0              58       1\n",
            "998   40             10     4  ...             0              40       0\n",
            "999   39             13     4  ...             0              50       1\n",
            "\n",
            "[1000 rows x 8 columns]\n"
          ]
        }
      ]
    },
    {
      "cell_type": "markdown",
      "metadata": {
        "id": "BcCGYUce8pN_"
      },
      "source": [
        "Printing The Type of Data"
      ]
    },
    {
      "cell_type": "code",
      "metadata": {
        "colab": {
          "base_uri": "https://localhost:8080/"
        },
        "id": "6_IhGfpn8f6k",
        "outputId": "39316e46-f3ac-490f-8193-c14d6752c95c"
      },
      "source": [
        "print(\"\\nType of Data: \\n\\n\",type(data))"
      ],
      "execution_count": 28,
      "outputs": [
        {
          "output_type": "stream",
          "name": "stdout",
          "text": [
            "\n",
            "Type of Data: \n",
            "\n",
            " <class 'pandas.core.frame.DataFrame'>\n"
          ]
        }
      ]
    },
    {
      "cell_type": "markdown",
      "metadata": {
        "id": "1btT6jZ-5lab"
      },
      "source": [
        "\n",
        "# Step 2 : Append the Data\n",
        "Append 'new_record' (given) to 'data' using \"np.concatenate()\"¶"
      ]
    },
    {
      "cell_type": "code",
      "metadata": {
        "id": "Z6BTfeji5lEk"
      },
      "source": [
        "new_record =np.array([[50,9,4,1,0,0,40,0]])\n",
        "data=np.concatenate((data,new_record),axis=0)"
      ],
      "execution_count": 29,
      "outputs": []
    },
    {
      "cell_type": "markdown",
      "metadata": {
        "id": "MQPXzcY9BlcM"
      },
      "source": [
        "# Step 3 : Check if it's a young country or old country"
      ]
    },
    {
      "cell_type": "markdown",
      "metadata": {
        "id": "gBjsGjZx89ge"
      },
      "source": [
        "Q-1  ::\n",
        "Create a new array called 'age' by taking only age column(age is the column with index 0) of 'census' array"
      ]
    },
    {
      "cell_type": "code",
      "metadata": {
        "colab": {
          "base_uri": "https://localhost:8080/"
        },
        "id": "_GVCzwP98SLe",
        "outputId": "1f53f0ad-ef0c-4abc-b361-8a9b30c4cae2"
      },
      "source": [
        "#creating an array with age Column\n",
        "age=data[:,0]\n",
        "#printing the Array\n",
        "print(age)"
      ],
      "execution_count": 30,
      "outputs": [
        {
          "output_type": "stream",
          "name": "stdout",
          "text": [
            "[39 50 38 ... 40 39 50]\n"
          ]
        }
      ]
    },
    {
      "cell_type": "markdown",
      "metadata": {
        "id": "F7GwuNG9BB1A"
      },
      "source": [
        "Q-2::\n",
        "Find the max age and store it in a variable called 'max_age'."
      ]
    },
    {
      "cell_type": "code",
      "metadata": {
        "colab": {
          "base_uri": "https://localhost:8080/"
        },
        "id": "FrghK42_NTe8",
        "outputId": "6f554c28-33b6-440b-8a64-73b5d47dd933"
      },
      "source": [
        "max_age=age.max()\n",
        "print(max_age)"
      ],
      "execution_count": 31,
      "outputs": [
        {
          "output_type": "stream",
          "name": "stdout",
          "text": [
            "90\n"
          ]
        }
      ]
    },
    {
      "cell_type": "markdown",
      "metadata": {
        "id": "9qbzeVECBPtS"
      },
      "source": [
        "Q-3: Find the min age and store it in a variable called 'min_age'"
      ]
    },
    {
      "cell_type": "code",
      "metadata": {
        "colab": {
          "base_uri": "https://localhost:8080/"
        },
        "id": "WlxVuoj4NebO",
        "outputId": "c28d7ba5-ea6f-4cfb-f233-392fbef314a8"
      },
      "source": [
        "min_age=age.min()\n",
        "print(min_age)"
      ],
      "execution_count": 32,
      "outputs": [
        {
          "output_type": "stream",
          "name": "stdout",
          "text": [
            "17\n"
          ]
        }
      ]
    },
    {
      "cell_type": "markdown",
      "metadata": {
        "id": "XKmSo5JABhgT"
      },
      "source": [
        "Q-4::Find the mean of the age and store it in a variable called 'age_mean'\n",
        "\n"
      ]
    },
    {
      "cell_type": "code",
      "metadata": {
        "colab": {
          "base_uri": "https://localhost:8080/"
        },
        "id": "AChLh05BNmSo",
        "outputId": "bbdc2cb0-fb58-4dee-e21a-19c02c401169"
      },
      "source": [
        "age_mean=(age.sum()/age.size)\n",
        "print(age_mean)"
      ],
      "execution_count": 33,
      "outputs": [
        {
          "output_type": "stream",
          "name": "stdout",
          "text": [
            "38.06293706293706\n"
          ]
        }
      ]
    },
    {
      "cell_type": "markdown",
      "metadata": {
        "id": "T1buRSuUCHoi"
      },
      "source": [
        "Q-5:Find the standard deviation of the age and store it in a variable called 'age_std'"
      ]
    },
    {
      "cell_type": "code",
      "metadata": {
        "colab": {
          "base_uri": "https://localhost:8080/"
        },
        "id": "bgqoeHvrOYT6",
        "outputId": "83fbf2f7-b6ef-42f0-91be-2472c9126d76"
      },
      "source": [
        "age_std=np.std(age)\n",
        "print(age_std)"
      ],
      "execution_count": 34,
      "outputs": [
        {
          "output_type": "stream",
          "name": "stdout",
          "text": [
            "13.341478176165857\n"
          ]
        }
      ]
    },
    {
      "cell_type": "markdown",
      "metadata": {
        "id": "wbatl6QiCTLt"
      },
      "source": [
        "# Step 4: Let's check the country's race distribution to identify the minorities"
      ]
    },
    {
      "cell_type": "code",
      "metadata": {
        "colab": {
          "base_uri": "https://localhost:8080/"
        },
        "id": "G0PPmn4KF0tF",
        "outputId": "4d38ca9f-8636-4de8-a3ad-f08684f1ab3e"
      },
      "source": [
        "race=data[:,2]\n",
        "race.shape"
      ],
      "execution_count": 35,
      "outputs": [
        {
          "output_type": "execute_result",
          "data": {
            "text/plain": [
              "(1001,)"
            ]
          },
          "metadata": {},
          "execution_count": 35
        }
      ]
    },
    {
      "cell_type": "markdown",
      "metadata": {
        "id": "Y_UngKJxCcoC"
      },
      "source": [
        "Q-1: Create five different arrays by subsetting 'census' array by Race column(Race is the column with index 2) and save them in 'race_0','race_1', 'race_2', 'race_3' and 'race_4' respectively(Meaning: Store the array where 'race'column has value 0 in 'race_0', so on and so forth)"
      ]
    },
    {
      "cell_type": "code",
      "metadata": {
        "id": "_0vkUlZ4EHAt",
        "colab": {
          "base_uri": "https://localhost:8080/"
        },
        "outputId": "cadbf432-3612-4f56-e589-23022355bc43"
      },
      "source": [
        "#Creating Array with Race 0\n",
        "race_0=data[data[:,2]==0]\n",
        "print(race_0)"
      ],
      "execution_count": 36,
      "outputs": [
        {
          "output_type": "stream",
          "name": "stdout",
          "text": [
            "[[34  4  0  1  0  0 45  0]\n",
            " [35 10  0  0  0  0 40  0]\n",
            " [60  6  0  0  0  0 10  0]\n",
            " [51  9  0  1  0  0 40  0]\n",
            " [25 10  0  0  0  0 20  0]\n",
            " [20  9  0  1  0  0 48  0]\n",
            " [23 10  0  0  0  0 25  0]\n",
            " [29  9  0  1  0  0 40  0]\n",
            " [27 12  0  1  0  0 40  0]\n",
            " [31 12  0  0  0  0 40  0]]\n"
          ]
        }
      ]
    },
    {
      "cell_type": "code",
      "metadata": {
        "id": "bor4Qsm7If9Q",
        "colab": {
          "base_uri": "https://localhost:8080/"
        },
        "outputId": "0595c863-8938-4a71-b355-19b93bfe1686"
      },
      "source": [
        "#Creating Array with Race 1\n",
        "race_1=data[data[:,2]==1]\n",
        "print(race_1)"
      ],
      "execution_count": 37,
      "outputs": [
        {
          "output_type": "stream",
          "name": "stdout",
          "text": [
            "[[  30   13    1    1    0    0   40    1]\n",
            " [  40   11    1    1    0    0   40    1]\n",
            " [  54   10    1    1    0    0   60    1]\n",
            " [  30    9    1    0    0 1573   35    0]\n",
            " [  49   10    1    1    0    0   40    1]\n",
            " [  33   13    1    0    0    0   40    0]\n",
            " [  44   14    1    0    0    0   40    0]\n",
            " [  28    9    1    0    0    0   40    0]\n",
            " [  60    9    1    1    0    0   40    0]\n",
            " [  42    9    1    1    0    0   40    1]\n",
            " [  37   10    1    1    0    0   75    1]\n",
            " [  39   14    1    0 3464    0   40    0]\n",
            " [  21   10    1    0    0    0   25    0]\n",
            " [  24   10    1    0    0    0   40    0]\n",
            " [  34   14    1    1 7298    0   35    1]\n",
            " [  27   10    1    1    0 1980   40    0]\n",
            " [  40   11    1    1    0    0   40    1]\n",
            " [  55    9    1    0    0    0   40    0]\n",
            " [  35   16    1    1    0    0   40    1]\n",
            " [  29   10    1    0    0    0   40    0]\n",
            " [  20    7    1    0    0 1762   40    0]\n",
            " [  55   10    1    0    0    0   40    0]\n",
            " [  51   13    1    1    0 2415   40    1]\n",
            " [  28   11    1    0    0    0   40    0]\n",
            " [  43   14    1    0    0    0   50    0]\n",
            " [  67    9    1    1    0    0   40    1]\n",
            " [  48   13    1    1    0    0   40    1]]\n"
          ]
        }
      ]
    },
    {
      "cell_type": "code",
      "metadata": {
        "id": "TNEAQ44OIjn0",
        "colab": {
          "base_uri": "https://localhost:8080/"
        },
        "outputId": "e37b3d6d-9ec6-45b6-bc7c-fd2ced723c24"
      },
      "source": [
        "#creating Array With Race 2\n",
        "race_2=data[data[:,2]==2]\n",
        "print(race_2)"
      ],
      "execution_count": 38,
      "outputs": [
        {
          "output_type": "stream",
          "name": "stdout",
          "text": [
            "[[  53    7    2    1    0    0   40    0]\n",
            " [  28   13    2    0    0    0   40    0]\n",
            " [  49    5    2    0    0    0   16    0]\n",
            " [  37   10    2    1    0    0   80    1]\n",
            " [  32   12    2    1    0    0   50    0]\n",
            " [  54    9    2    0    0    0   20    0]\n",
            " [  35    5    2    1    0    0   40    0]\n",
            " [  20   10    2    1    0    0   44    0]\n",
            " [  22   10    2    1    0    0   15    0]\n",
            " [  57   13    2    1    0    0   40    1]\n",
            " [  31   13    2    0    0    0   40    0]\n",
            " [  28   10    2    0    0    0   25    0]\n",
            " [  32    9    2    1    0    0   40    0]\n",
            " [  49   11    2    1    0    0   40    1]\n",
            " [  30   13    2    1    0    0   40    0]\n",
            " [  19   10    2    1    0    0   35    0]\n",
            " [  46   12    2    0    0    0   36    0]\n",
            " [  31    9    2    0    0    0   30    0]\n",
            " [  71   10    2    1    0 1816    2    0]\n",
            " [  42   13    2    1    0    0   50    0]\n",
            " [  21    9    2    1    0    0   40    0]\n",
            " [  34    9    2    1    0    0   40    0]\n",
            " [  44   10    2    1    0    0   38    1]\n",
            " [  30   10    2    1    0    0   45    0]\n",
            " [  34    9    2    1    0    0   40    0]\n",
            " [  38   10    2    0    0    0   28    0]\n",
            " [  41   13    2    1    0    0   40    0]\n",
            " [  36   13    2    1 7298    0   36    1]\n",
            " [  44    9    2    1    0    0   40    0]\n",
            " [  37   13    2    1    0    0   60    1]\n",
            " [  90    9    2    1    0 2206   40    0]\n",
            " [  54    9    2    1    0    0   20    0]\n",
            " [  35    7    2    1 3674    0   40    0]\n",
            " [  41    9    2    0    0    0   38    0]\n",
            " [  42   13    2    0    0    0   40    0]\n",
            " [  59    6    2    0    0    0   30    0]\n",
            " [  43    9    2    1    0    0   40    0]\n",
            " [  34   12    2    0    0    0   45    0]\n",
            " [  27   13    2    0    0    0   40    0]\n",
            " [  19   10    2    0    0    0   25    0]\n",
            " [  36   13    2    0    0    0   40    1]\n",
            " [  23   11    2    0    0    0   15    0]\n",
            " [  41   10    2    1    0    0   45    0]\n",
            " [  19    9    2    1    0    0   30    0]\n",
            " [  45    9    2    1    0    0   40    0]\n",
            " [  22   10    2    0    0    0   40    0]\n",
            " [  45    9    2    1    0    0   40    0]\n",
            " [  44    9    2    1    0    0   40    0]\n",
            " [  41   10    2    0    0    0   24    0]\n",
            " [  24    9    2    0    0    0   40    0]\n",
            " [  34    7    2    1    0    0   40    0]\n",
            " [  34    9    2    1  594    0   60    0]\n",
            " [  44    9    2    0    0    0   40    0]\n",
            " [  19    9    2    0    0    0   40    0]\n",
            " [  42   12    2    1    0    0   40    1]\n",
            " [  38   10    2    1    0    0   50    0]\n",
            " [  54    9    2    1    0    0   40    0]\n",
            " [  52    8    2    1  594    0   40    0]\n",
            " [  25   10    2    0    0    0   20    0]\n",
            " [  24   13    2    1    0    0   40    0]\n",
            " [  47    9    2    0    0    0   40    0]\n",
            " [  53    3    2    0    0    0   30    0]\n",
            " [  24   10    2    1    0    0   50    0]\n",
            " [  36    9    2    1    0    0   40    0]\n",
            " [  57    2    2    0    0    0   30    0]\n",
            " [  34    9    2    0    0    0   40    0]\n",
            " [  35    9    2    0    0    0   40    0]\n",
            " [  33   11    2    0    0    0   40    1]\n",
            " [  24    9    2    0    0    0   40    0]\n",
            " [  48    9    2    0    0    0   37    0]\n",
            " [  36    9    2    1    0    0   40    0]\n",
            " [  30    9    2    1    0    0   45    0]\n",
            " [  45    7    2    0    0    0   20    0]\n",
            " [  65    5    2    0    0    0   24    0]\n",
            " [  30    9    2    1    0    0   60    0]\n",
            " [  47   10    2    0    0    0   40    0]\n",
            " [  49    6    2    0    0    0   40    0]\n",
            " [  30   13    2    0    0    0   40    1]\n",
            " [  44    8    2    1    0    0   40    1]\n",
            " [  42    9    2    1    0    0   40    1]\n",
            " [  23   10    2    1    0    0   40    0]\n",
            " [  24   10    2    0    0    0   45    0]\n",
            " [  40    8    2    1    0    0   40    0]\n",
            " [  45   10    2    1    0    0   40    0]\n",
            " [  36   10    2    0    0    0   40    0]\n",
            " [  31    9    2    0    0    0   40    0]\n",
            " [  45   10    2    0    0    0   40    0]\n",
            " [  36   10    2    0    0    0   36    0]\n",
            " [  56    9    2    0  594    0   20    0]\n",
            " [  32   10    2    0    0    0   40    0]\n",
            " [  29    7    2    1    0    0   40    0]\n",
            " [  37    9    2    1    0    0   40    0]\n",
            " [  42   10    2    0    0    0   38    0]\n",
            " [  22   10    2    1    0    0   20    0]\n",
            " [  25    9    2    1    0    0   40    0]\n",
            " [  24    9    2    1    0 1721   30    0]\n",
            " [  22   10    2    1    0    0   40    0]\n",
            " [  55    3    2    1    0    0   25    0]\n",
            " [  23    9    2    0    0    0    7    0]\n",
            " [  54    9    2    1    0    0   40    0]\n",
            " [  48   10    2    0    0    0   30    0]\n",
            " [  24   13    2    1    0    0   15    0]\n",
            " [  23    9    2    1    0    0   40    0]\n",
            " [  38   10    2    0    0    0   40    0]\n",
            " [  35    9    2    1    0    0   40    0]\n",
            " [  54   10    2    0    0    0   35    0]\n",
            " [  51    4    2    0    0    0   40    0]\n",
            " [  78    9    2    0 2964    0   40    0]\n",
            " [  23    9    2    0    0    0   40    0]\n",
            " [  41    9    2    0    0    0   35    0]]\n"
          ]
        }
      ]
    },
    {
      "cell_type": "code",
      "metadata": {
        "id": "hlH8z4rqInnv",
        "colab": {
          "base_uri": "https://localhost:8080/"
        },
        "outputId": "b9e747d8-888c-495f-8f7b-da2173a67b6d"
      },
      "source": [
        "#creating Array with Race 3\n",
        "race_3=data[data[:,2]==3]\n",
        "print(race_3)"
      ],
      "execution_count": 39,
      "outputs": [
        {
          "output_type": "stream",
          "name": "stdout",
          "text": [
            "[[  25   10    3    0    0    0   40    0]\n",
            " [  33   10    3    0    0    0   40    0]\n",
            " [  65    7    3    1    0    0   40    0]\n",
            " [  28    4    3    1    0 2179   40    0]\n",
            " [  44    7    3    0    0    0   46    0]\n",
            " [  40   13    3    0    0    0   55    1]]\n"
          ]
        }
      ]
    },
    {
      "cell_type": "code",
      "metadata": {
        "id": "818JpHQgIqYf",
        "colab": {
          "base_uri": "https://localhost:8080/"
        },
        "outputId": "945858d2-7b52-4836-ae04-e4cdc7ff2e49"
      },
      "source": [
        "#creating Array With Race 4\n",
        "race_4=data[data[:,2]==4]\n",
        "print(race_4)"
      ],
      "execution_count": 40,
      "outputs": [
        {
          "output_type": "stream",
          "name": "stdout",
          "text": [
            "[[39 13  4 ...  0 40  0]\n",
            " [50 13  4 ...  0 13  0]\n",
            " [38  9  4 ...  0 40  0]\n",
            " ...\n",
            " [40 10  4 ...  0 40  0]\n",
            " [39 13  4 ...  0 50  1]\n",
            " [50  9  4 ...  0 40  0]]\n"
          ]
        }
      ]
    },
    {
      "cell_type": "markdown",
      "metadata": {
        "id": "HluDBTlsDjQR"
      },
      "source": [
        "Store the length of the above created arrays in 'len_0', 'len_1','len_2', 'len_3' and 'len_4' respectively"
      ]
    },
    {
      "cell_type": "code",
      "metadata": {
        "colab": {
          "base_uri": "https://localhost:8080/"
        },
        "id": "jCwQxokOK1f_",
        "outputId": "c29febe0-0397-4cc3-974d-f20dfdc9f916"
      },
      "source": [
        "#checking the Length of Race_0 Array and Printing It\n",
        "len_0=len(race_0)\n",
        "print(\"Length of Race_0:\",len_0)\n",
        "#checking the Length of Race_1 Array and Printing It\n",
        "len_1=len(race_1)\n",
        "print(\"Length of Race_1:\",len_1)\n",
        "#checking the Length of Race_2 Array and Printing It\n",
        "len_2=len(race_2)\n",
        "print(\"Length of Race_2:\",len_2)\n",
        "#checking the Length of Race_3 Array and Printing It\n",
        "len_3=len(race_3)\n",
        "print(\"Length of Race_3:\",len_3)\n",
        "#checking the Length of Race_4 Array and Printing It\n",
        "len_4=len(race_4)\n",
        "print(\"Length of Race_4:\",len_4)"
      ],
      "execution_count": 41,
      "outputs": [
        {
          "output_type": "stream",
          "name": "stdout",
          "text": [
            "Length of Race_0: 10\n",
            "Length of Race_1: 27\n",
            "Length of Race_2: 110\n",
            "Length of Race_3: 6\n",
            "Length of Race_4: 848\n"
          ]
        }
      ]
    },
    {
      "cell_type": "markdown",
      "metadata": {
        "id": "tz-s96i-Fpkp"
      },
      "source": [
        "Q-3: Find out which is the race with the minimum no. of citizens"
      ]
    },
    {
      "cell_type": "code",
      "metadata": {
        "colab": {
          "base_uri": "https://localhost:8080/"
        },
        "id": "2ZDXrpn4Fb9S",
        "outputId": "1a7e4395-d1de-410a-852f-79af31fe1792"
      },
      "source": [
        "#Check the Minium Length of Of All these Arrays\n",
        "min_citizen=min(len_0,len_1,len_2,len_3,len_4)\n",
        "if min_citizen==len_0:\n",
        "  print(\"{} has Minimum Citizen= {}\".format('race_0',len_0))\n",
        "elif min_citizen==len_1:\n",
        "  print(\"{} has Minimum Citizen= {}\".format('race_1',len_1))\n",
        "elif min_citizen==len_2:\n",
        "  print(\"{} has Minimum Citizen= {}\".format('race_2',len_2))\n",
        "elif min_citizen==len_3:\n",
        "  print(\"{} has Minimum Citizen= {}\".format('race_3',len_3))\n",
        "elif min_citizen==len_4:\n",
        "  print(\"{} has Minimum Citizen= {}\".format('race_4',len_4))\n",
        "else:\n",
        "  pass"
      ],
      "execution_count": 47,
      "outputs": [
        {
          "output_type": "stream",
          "name": "stdout",
          "text": [
            "race_3 has Minimum Citizen= 6\n"
          ]
        }
      ]
    },
    {
      "cell_type": "markdown",
      "metadata": {
        "id": "agWH7TUFKCMh"
      },
      "source": [
        "Q:4-Store the number associated with the minority race in a variable called 'minority_race'(For eg: if \"len(race_5)\" is the minimum, store 5 in 'minority_race' because that is the index of the race having the least no. of citizens )"
      ]
    },
    {
      "cell_type": "code",
      "metadata": {
        "colab": {
          "base_uri": "https://localhost:8080/"
        },
        "id": "3LwMKq3kMPhh",
        "outputId": "08862be1-2293-4d64-f551-0772b63f352e"
      },
      "source": [
        "if min_citizen==len_0:\n",
        "  minority_race=0\n",
        "  print(\"Minority Race:\",minority_race)\n",
        "elif min_citizen==len_1:\n",
        "  minority_race=1\n",
        "  print(\"Minority Race:\",minority_race)\n",
        "elif min_citizen==len_2:\n",
        "  minority_race=2\n",
        "  print(\"Minority Race:\",minority_race)\n",
        "elif min_citizen==len_3:\n",
        "  minority_race=3\n",
        "  print(\"Minority Race:\",minority_race)\n",
        "elif min_citizen==len_4:\n",
        "  minority_race=4\n",
        "  print(\"Minority Race:\",minority_race)\n",
        "else:\n",
        "  pass"
      ],
      "execution_count": 51,
      "outputs": [
        {
          "output_type": "stream",
          "name": "stdout",
          "text": [
            "Minority Race: 3\n"
          ]
        }
      ]
    },
    {
      "cell_type": "markdown",
      "metadata": {
        "id": "d2aVTyMwKOnr"
      },
      "source": [
        "# Step 5: As per govt. records citizens above 60 should not work more than 25 hours a week. Let us check if the policy is in place"
      ]
    },
    {
      "cell_type": "markdown",
      "metadata": {
        "id": "3CvCXAZEKV1m"
      },
      "source": [
        "Q:1-Create a new subset array called 'senior_citizens' by filtering 'census' according to age>60 (age is the column with index 0)"
      ]
    },
    {
      "cell_type": "code",
      "metadata": {
        "id": "F5HmgaifM9o0",
        "colab": {
          "base_uri": "https://localhost:8080/"
        },
        "outputId": "02e77f27-8930-46d2-d669-a029875257b9"
      },
      "source": [
        "#creating a New Subset Array in which all details of  Citizen's >60 is stored\n",
        "senior_citizen=data[data[:,0]>60]\n",
        "print(senior_citizen)"
      ],
      "execution_count": 56,
      "outputs": [
        {
          "output_type": "stream",
          "name": "stdout",
          "text": [
            "[[   79    10     4     1     0     0    20     0]\n",
            " [   67     6     4     1     0     0     2     0]\n",
            " [   76    14     4     1     0     0    40     1]\n",
            " [   61     9     4     1     0     0    40     0]\n",
            " [   70    10     4     1     0     0    40     0]\n",
            " [   64     7     4     1     0  2179    40     0]\n",
            " [   71    10     2     1     0  1816     2     0]\n",
            " [   68     2     4     0     0     0    20     0]\n",
            " [   66    11     4     0     0     0    20     0]\n",
            " [   64     2     4     1     0     0    40     0]\n",
            " [   90     9     2     1     0  2206    40     0]\n",
            " [   66     9     4     1  1409     0    50     0]\n",
            " [   75    11     4     0     0     0    20     0]\n",
            " [   65     9     4     0     0     0    40     0]\n",
            " [   64     9     4     1     0     0    40     1]\n",
            " [   61     9     4     1     0     0    40     1]\n",
            " [   65     9     4     1     0     0    16     0]\n",
            " [   77    10     4     1     0     0    40     0]\n",
            " [   62     9     4     0     0     0    24     0]\n",
            " [   76    14     4     1     0     0    10     0]\n",
            " [   63     9     4     1     0     0    45     0]\n",
            " [   66     9     4     1  2050     0    55     0]\n",
            " [   67     7     4     1     0     0     8     0]\n",
            " [   65     7     3     1     0     0    40     0]\n",
            " [   62    14     4     1     0     0    40     1]\n",
            " [   63     9     4     1     0     0    40     1]\n",
            " [   80     9     4     1     0     0    24     0]\n",
            " [   67    11     4     0     0     0    24     0]\n",
            " [   63     2     4     1     0     0    35     0]\n",
            " [   72     9     4     1     0     0    20     0]\n",
            " [   62     9     4     1     0     0    40     0]\n",
            " [   74    10     4     0     0     0     9     0]\n",
            " [   67    15     4     1 20051     0    48     1]\n",
            " [   72     7     4     0     0     0    40     0]\n",
            " [   69     7     4     0     0     0    40     0]\n",
            " [   65    10     4     1     0     0    30     1]\n",
            " [   65     5     2     0     0     0    24     0]\n",
            " [   71     9     4     1     0     0    15     0]\n",
            " [   70     5     4     0  1111     0    15     0]\n",
            " [   66     4     4     1     0     0     4     0]\n",
            " [   65     7     4     1  9386     0    59     1]\n",
            " [   61     9     4     1     0  2352    50     0]\n",
            " [   61     9     4     1     0     0    40     0]\n",
            " [   68     7     4     1     0     0    20     0]\n",
            " [   64    13     4     1     0     0    40     1]\n",
            " [   64     9     4     1     0     0    45     0]\n",
            " [   62     9     4     0     0     0    40     0]\n",
            " [   73     9     4     1     0     0    40     0]\n",
            " [   72     7     4     0     0     0    24     0]\n",
            " [   63     9     4     1     0     0     6     0]\n",
            " [   62    13     4     0     0     0    48     0]\n",
            " [   61    14     4     0     0     0    40     1]\n",
            " [   71    14     4     1 10605     0    40     1]\n",
            " [   63    10     4     1     0     0    15     0]\n",
            " [   63     4     4     1     0     0    55     0]\n",
            " [   67     9     1     1     0     0    40     1]\n",
            " [   81     9     4     1     0     0    30     0]\n",
            " [   64     9     4     1     0     0     5     0]\n",
            " [   67    13     4     1     0  2392    40     1]\n",
            " [   78     9     2     0  2964     0    40     0]\n",
            " [   63    11     4     0     0     0    20     0]]\n"
          ]
        }
      ]
    },
    {
      "cell_type": "markdown",
      "metadata": {
        "id": "Y4FR8K2wLatK"
      },
      "source": [
        "Q-2 : Add all the working hours(working hours is the column with index 6) of 'senior_citizens' and store it in a variable called 'working_hours_sum'"
      ]
    },
    {
      "cell_type": "code",
      "metadata": {
        "colab": {
          "base_uri": "https://localhost:8080/"
        },
        "id": "80MT-ie5NTgi",
        "outputId": "d33578e4-7094-4429-ff30-46a5def8fc12"
      },
      "source": [
        "working_hours_sum=sum(senior_citizen[:,6])\n",
        "print(working_hours_sum)"
      ],
      "execution_count": 57,
      "outputs": [
        {
          "output_type": "stream",
          "name": "stdout",
          "text": [
            "1917\n"
          ]
        }
      ]
    },
    {
      "cell_type": "markdown",
      "metadata": {
        "id": "sCAag5lkLtBu"
      },
      "source": [
        "Q-3: Find the length of 'senior_citizens' and store it in a variable called 'senior_citizens_len'"
      ]
    },
    {
      "cell_type": "code",
      "metadata": {
        "colab": {
          "base_uri": "https://localhost:8080/"
        },
        "id": "x_tsMX0OL2Nv",
        "outputId": "87432e60-8b1b-4884-a85b-af791ebbb311"
      },
      "source": [
        "senior_citizen_len=len(senior_citizen)\n",
        "print(\"Total No. of Citizen With Age Greater then 60 is = \",senior_citizen_len)"
      ],
      "execution_count": 60,
      "outputs": [
        {
          "output_type": "stream",
          "name": "stdout",
          "text": [
            "Total No. of Citizen With Age Greater then 60 is =  61\n"
          ]
        }
      ]
    },
    {
      "cell_type": "markdown",
      "metadata": {
        "id": "DYNeyvAzMMw6"
      },
      "source": [
        "Q-4: Finally find the average working hours of the senior citizens by dividing 'working_hours_sum' by 'senior_citizens_len' and store it in a variable called 'avg_working hours'."
      ]
    },
    {
      "cell_type": "code",
      "metadata": {
        "colab": {
          "base_uri": "https://localhost:8080/"
        },
        "id": "otzxEe9RN0Jk",
        "outputId": "0528256a-2c82-4ebf-c6b9-342f67884c20"
      },
      "source": [
        "avg_working_hours=working_hours_sum/senior_citizen_len\n"
      ],
      "execution_count": 61,
      "outputs": [
        {
          "output_type": "stream",
          "name": "stdout",
          "text": [
            "31.42622950819672\n"
          ]
        }
      ]
    },
    {
      "cell_type": "markdown",
      "metadata": {
        "id": "kZ8q9kiyMf3o"
      },
      "source": [
        "Q-5: Print 'avg_working_hours' and see if the govt. policy is followed."
      ]
    },
    {
      "cell_type": "code",
      "metadata": {
        "colab": {
          "base_uri": "https://localhost:8080/"
        },
        "id": "NZjhoc6uRSFx",
        "outputId": "8d586717-b861-479e-e6e5-5875a1c70c4a"
      },
      "source": [
        "print(\"Average Working Hours is= \",round(avg_working_hours,2))\n",
        "if (avg_working_hours<25):\n",
        "  Print(\"Govt Policy is Followed\")\n",
        "else:\n",
        "  print(\"Govt Policy is Not Followed\")"
      ],
      "execution_count": 63,
      "outputs": [
        {
          "output_type": "stream",
          "name": "stdout",
          "text": [
            "Average Working Hours is=  31.43\n",
            "Govt Policy is Not Followed\n"
          ]
        }
      ]
    },
    {
      "cell_type": "markdown",
      "metadata": {
        "id": "qzPK9V-VNCqZ"
      },
      "source": [
        "# Step 6: Let's check that higher educated people have better pay in general."
      ]
    },
    {
      "cell_type": "markdown",
      "metadata": {
        "id": "udowcVw8NKqr"
      },
      "source": [
        "Q-1: Create two new subset arrays called 'high' and 'low' by filtering 'census' according to education-num>10 and education-num<=10 (education-num is the column with index 1) respectively."
      ]
    },
    {
      "cell_type": "code",
      "metadata": {
        "colab": {
          "base_uri": "https://localhost:8080/"
        },
        "id": "t6S7QczYSFRh",
        "outputId": "c9333ff6-db64-4a6a-d8d5-b4aa3128f783"
      },
      "source": [
        "high=data[data[:,1]>10]\n",
        "low=data[data[:,1]<=10]\n",
        "print(\"high: \",high)\n",
        "print(\"low: \",low)"
      ],
      "execution_count": 64,
      "outputs": [
        {
          "output_type": "stream",
          "name": "stdout",
          "text": [
            "High:  [[39 13  4 ...  0 40  0]\n",
            " [50 13  4 ...  0 13  0]\n",
            " [28 13  2 ...  0 40  0]\n",
            " ...\n",
            " [45 14  4 ...  0 45  0]\n",
            " [48 13  4 ...  0 58  1]\n",
            " [39 13  4 ...  0 50  1]]\n",
            "low:  [[38  9  4 ...  0 40  0]\n",
            " [53  7  2 ...  0 40  0]\n",
            " [49  5  2 ...  0 16  0]\n",
            " ...\n",
            " [56  9  4 ...  0 55  1]\n",
            " [40 10  4 ...  0 40  0]\n",
            " [50  9  4 ...  0 40  0]]\n"
          ]
        }
      ]
    },
    {
      "cell_type": "markdown",
      "metadata": {
        "id": "Kcu55WG7NiBs"
      },
      "source": [
        "Q-2: Find the mean of income column(income is the column with index 7) of 'high' array and store it in 'avg_pay_high'. Do the same for 'low' array and store it's mean in 'avg_pay_low'."
      ]
    },
    {
      "cell_type": "code",
      "metadata": {
        "colab": {
          "base_uri": "https://localhost:8080/"
        },
        "id": "fG7P5NewUW8Y",
        "outputId": "3f5f052c-14f8-4d77-8ff8-6012a12fc137"
      },
      "source": [
        "#Calculating The Avg pay for High Educated People \n",
        "sum_of_high=sum(high[:,7])\n",
        "len_of_high=len(high[:,7])\n",
        "avg_pay_high=sum_of_high/len_of_high\n",
        "print(\"Average Pay of Higher Educated People is \",avg_pay_high)\n"
      ],
      "execution_count": 65,
      "outputs": [
        {
          "output_type": "stream",
          "name": "stdout",
          "text": [
            "Average Pay of Higher Educated People is  0.42813455657492355\n"
          ]
        }
      ]
    },
    {
      "cell_type": "code",
      "metadata": {
        "colab": {
          "base_uri": "https://localhost:8080/"
        },
        "id": "KzLp0yGxVCWi",
        "outputId": "d8c2703a-c75c-4908-c2a9-98b277fc5b5d"
      },
      "source": [
        "#Calculating The Avg Pay for Low Educated People\n",
        "sum_of_low=sum(low[:,7])\n",
        "len_of_low=len(low[:,7])\n",
        "avg_pay_low=sum_of_low/len_of_low\n",
        "print(\"Average Pay of Low Educated People is \",avg_pay_low)"
      ],
      "execution_count": 66,
      "outputs": [
        {
          "output_type": "stream",
          "name": "stdout",
          "text": [
            "Average Pay of Low Educated People is  0.13649851632047477\n"
          ]
        }
      ]
    }
  ]
}